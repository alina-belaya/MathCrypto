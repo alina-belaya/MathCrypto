{
  "nbformat": 4,
  "nbformat_minor": 0,
  "metadata": {
    "colab": {
      "name": "CryptoLW1.ipynb",
      "provenance": [],
      "collapsed_sections": []
    },
    "kernelspec": {
      "name": "python3",
      "display_name": "Python 3"
    },
    "language_info": {
      "name": "python"
    }
  },
  "cells": [
    {
      "cell_type": "code",
      "execution_count": 1,
      "metadata": {
        "id": "qwEMRecWnbqv"
      },
      "outputs": [],
      "source": [
        "import requests\n",
        "import re\n",
        "from collections import Counter\n",
        "import numpy as np\n",
        "import matplotlib.pyplot as plt"
      ]
    },
    {
      "cell_type": "markdown",
      "source": [
        "### Л1.1 Побудуйте гiстограму частот появи лiтер в текстi."
      ],
      "metadata": {
        "id": "xpdf215ldH6v"
      }
    },
    {
      "cell_type": "code",
      "source": [
        "link = \"https://raw.githubusercontent.com/alina-belaya/MathCrypto/main/Lab1/Lab1Text.txt\"\n",
        "req = requests.get(link).text.lower()\n",
        "\n",
        "text = re.sub('[^а-яєіїюґ]', '', req)\n",
        "\n",
        "c = Counter(text)\n",
        "plt.figure(figsize=(7, 7))\n",
        "plt.bar(*zip(*sorted(c.most_common())), width=.7, color='g')\n",
        "plt.show()"
      ],
      "metadata": {
        "colab": {
          "base_uri": "https://localhost:8080/",
          "height": 428
        },
        "id": "M8EZdPc4dl2V",
        "outputId": "38526414-8af0-4c62-cc68-b1ac6debceb6"
      },
      "execution_count": 2,
      "outputs": [
        {
          "output_type": "display_data",
          "data": {
            "text/plain": [
              "<Figure size 504x504 with 1 Axes>"
            ],
            "image/png": "[encoded data removed]"
          },
          "metadata": {
            "needs_background": "light"
          }
        }
      ]
    },
    {
      "cell_type": "markdown",
      "source": [
        "### Л1.2 Реалiзуйте алгоритм шифрування Вiженера."
      ],
      "metadata": {
        "id": "yAhfSQ0uqSks"
      }
    },
    {
      "cell_type": "code",
      "source": [
        "def generate_key(txt, kw):\n",
        "  if len(txt) == len(kw):\n",
        "    return kw\n",
        "  key = []\n",
        "  for i in range(len(txt)):\n",
        "    key.append(kw[i % len(kw)])\n",
        "  return \"\".join(key)\n",
        "\n",
        "\n",
        "def vigenere_encryption(pt, k):\n",
        "    txt = re.sub('[^а-яєіїюґ]', '', pt.lower())\n",
        "    ct = []\n",
        "    sk = list(k)\n",
        "    for number, letter in enumerate(txt):\n",
        "        ct_letter = (alphabet.index(letter) + alphabet.index(sk[number])) % 33\n",
        "        ct.append(alphabet[ct_letter])\n",
        "    return \"\".join(ct)\n",
        "\n",
        "\n",
        "def vigenere_decryprion(ct, k):\n",
        "  pt = []\n",
        "  sk = list(k)\n",
        "  for number, letter in enumerate(ct):\n",
        "    pt_letter = (alphabet.index(letter) - alphabet.index(sk[number])) % 33\n",
        "    pt.append(alphabet[pt_letter])\n",
        "  return \"\".join(pt)\n"
      ],
      "metadata": {
        "id": "YNImjlRusYsY"
      },
      "execution_count": 3,
      "outputs": []
    },
    {
      "cell_type": "code",
      "source": [
        "alphabet = ['а', 'б', 'в', 'г', 'ґ', 'д', 'е', 'є', 'ж', 'з', 'и', 'і', 'ї', 'й', 'к', 'л', 'м', 'н', 'о', 'п', 'р', 'с', 'т', 'у', 'ф', 'х', 'ц', 'ч', 'ш', 'щ', 'ь', 'ю', 'я']\n",
        "\n",
        "txt_input = \"криптографія\"\n",
        "plain_text = \"\".join(e for e in txt_input.lower() if e.isalpha())\n",
        "\n",
        "keyword = \"ключслово\"\n",
        "key = generate_key(plain_text, keyword)\n",
        "\n",
        "cipher_text = vigenere_encryption(plain_text, key)\n",
        "\n",
        "print(\"Plain text: {}\\nKey: {}\\nCipher text: {}\".format(txt_input, keyword, cipher_text))\n",
        "print(\"Decrypted text:\", vigenere_decryprion(cipher_text, generate_key(cipher_text, keyword)))"
      ],
      "metadata": {
        "id": "-QBneSmMqYVy",
        "colab": {
          "base_uri": "https://localhost:8080/"
        },
        "outputId": "3c00d813-eaae-405f-9250-0593831a9e55"
      },
      "execution_count": 4,
      "outputs": [
        {
          "output_type": "stream",
          "name": "stdout",
          "text": [
            "Plain text: криптографія\n",
            "Key: ключслово\n",
            "Cipher text: швжйиастодць\n",
            "Decrypted text: криптографія\n"
          ]
        }
      ]
    },
    {
      "cell_type": "markdown",
      "source": [
        "###Л1.3 Проведiть криптоаналiз шифру Вiженера i розшифруйте запропонований криптотекст, не знаючи секретного ключа."
      ],
      "metadata": {
        "id": "N6eM40MG-6HV"
      }
    },
    {
      "cell_type": "code",
      "source": [
        "def countIoC(txt):\n",
        "    letterCounts = Counter(txt)\n",
        "\n",
        "    F = 0\n",
        "    for letter in letterCounts:\n",
        "        F += letterCounts[letter] * (letterCounts[letter] - 1)\n",
        "\n",
        "    N = len(txt)\n",
        "    IoC = F / (N * (N - 1))\n",
        "    return IoC"
      ],
      "metadata": {
        "id": "bJqQFU9W_ZDP"
      },
      "execution_count": 5,
      "outputs": []
    },
    {
      "cell_type": "code",
      "source": [
        "cipherText = vigenere_encryption(text, generate_key(text, \"коцюбинський\"))\n",
        "\n",
        "ct_len = len(cipherText)\n",
        "\n",
        "IoC_list = []\n",
        "\n",
        "for period in range(5, 21):\n",
        "    period_list = []\n",
        "    for i in range(period):\n",
        "        substring = \"\"\n",
        "        for j in range(i, ct_len, period):\n",
        "            substring += cipherText[j]\n",
        "        period_list.append(substring)\n",
        "    IoC_list.append([countIoC(i) for i in period_list])\n",
        "\n",
        "IoC_average = [sum(i) / len(i) for i in IoC_list]\n",
        "key_len = 5 + IoC_average.index(max(IoC_average))\n",
        "print(\"Key length:\", key_len)\n"
      ],
      "metadata": {
        "colab": {
          "base_uri": "https://localhost:8080/"
        },
        "id": "UwnA06WHAu1Y",
        "outputId": "85abc058-1a7a-4d98-c7e2-1f5b9242233d"
      },
      "execution_count": 6,
      "outputs": [
        {
          "output_type": "stream",
          "name": "stdout",
          "text": [
            "Key length: 12\n"
          ]
        }
      ]
    },
    {
      "cell_type": "code",
      "source": [
        "def CaesarCipher(txt, shift):\n",
        "    decrypted_message = \"\"\n",
        "\n",
        "    for c in txt:\n",
        "        if c in alphabet:\n",
        "            position = alphabet.index(c)\n",
        "            new_position = (position - shift) % 33\n",
        "            new_character = alphabet[new_position]\n",
        "            decrypted_message += new_character\n",
        "        else:\n",
        "            decrypted_message += c\n",
        "    return decrypted_message\n",
        "\n",
        "\n",
        "def countChiSq(txt):\n",
        "    letter_count = [0] * 33\n",
        "    all_letters = 0\n",
        "    expect_freq = [0.0834, 0.0153, 0.055, 0.0159, 0.0001, 0.0306, 0.0459, 0.0039, 0.0071, 0.021, 0.06, 0.0124, 0.0623,\n",
        "                   0.0084, 0.04, 0.0393, 0.0302, 0.071,\n",
        "                   0.0928, 0.0284, 0.0548, 0.0457, 0.0477, 0.0338, 0.0035, 0.0117, 0.0102, 0.0115, 0.0071, 0.0032,\n",
        "                   0.0183,\n",
        "                   0.007, 0.0216]\n",
        "    for i in txt:\n",
        "        letter_count[alphabet.index(i)] += 1\n",
        "        all_letters += 1\n",
        "\n",
        "    cs = 0\n",
        "    for i in range(33):\n",
        "        cs += ((letter_count[i] - all_letters*expect_freq[i])**2) / (all_letters*expect_freq[i])\n",
        "    return cs"
      ],
      "metadata": {
        "id": "a5u7PdzpupHr"
      },
      "execution_count": 7,
      "outputs": []
    },
    {
      "cell_type": "code",
      "source": [
        "secret_key = \"\"\n",
        "for i in range(key_len):\n",
        "    substring = \"\"\n",
        "    for j in range(i, ct_len, key_len):\n",
        "        substring += cipherText[j]\n",
        "    all_chisq = []\n",
        "    for k in range(33):\n",
        "        chisq = countChiSq(CaesarCipher(substring, k))\n",
        "        all_chisq.append(chisq)\n",
        "\n",
        "    s = alphabet[all_chisq.index(min(all_chisq))]\n",
        "    secret_key += s\n",
        "print(\"Key:\", secret_key)"
      ],
      "metadata": {
        "colab": {
          "base_uri": "https://localhost:8080/"
        },
        "id": "4iU31mK8m3mG",
        "outputId": "414b7e09-d7dd-46f1-cd80-8ad4c8cc0bbe"
      },
      "execution_count": 8,
      "outputs": [
        {
          "output_type": "stream",
          "name": "stdout",
          "text": [
            "Key: коцюбинський\n"
          ]
        }
      ]
    },
    {
      "cell_type": "code",
      "source": [
        "plainText = vigenere_decryprion(cipherText, generate_key(cipherText, secret_key))\n",
        "print(plainText[:300])"
      ],
      "metadata": {
        "colab": {
          "base_uri": "https://localhost:8080/"
        },
        "id": "-RI1hc4nbLiQ",
        "outputId": "601703eb-a3b4-493d-e4c9-9d9874c4b4c2"
      },
      "execution_count": 9,
      "outputs": [
        {
          "output_type": "stream",
          "name": "stdout",
          "text": [
            "іванбувдевятнадцятоюдитиноювгуцульськійродиніпалійчуківдвадцятоюіостанньоюбулаанничканезнатичитовічнийшумчеремошуіскаргигірськихпотоківщосповнялисамотнюхатунависокійкичерічисумчорнихсмерековихлісівлякавдитинутількиіванвсеплакавкричавпоночахпоганорісідививсянаненютакимглибокимстаречерозумнимзоромщома\n"
          ]
        }
      ]
    }
  ]
}